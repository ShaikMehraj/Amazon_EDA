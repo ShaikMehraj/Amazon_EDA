{
  "cells": [
    {
      "cell_type": "code",
      "execution_count": 5,
      "metadata": {
        "id": "zcRj9E34MLCN"
      },
      "outputs": [],
      "source": [
        "import pandas as pd\n",
        "import numpy as np\n",
        "import matplotlib.pyplot as plt\n",
        "import seaborn as sns\n",
        "import scipy as sp\n",
        "import scipy.stats as stats"
      ]
    },
    {
      "cell_type": "code",
      "execution_count": 6,
      "metadata": {
        "id": "OteB6Wm7SIyR"
      },
      "outputs": [],
      "source": [
        "df = pd.read_csv(\"fb.csv\")"
      ]
    },
    {
      "cell_type": "code",
      "execution_count": 7,
      "metadata": {
        "colab": {
          "base_uri": "https://localhost:8080/",
          "height": 443
        },
        "id": "xd7zOCkySgOK",
        "outputId": "c45bbd48-2e1d-411d-be7f-ff6912421523"
      },
      "outputs": [
        {
          "data": {
            "text/html": [
              "<div>\n",
              "<style scoped>\n",
              "    .dataframe tbody tr th:only-of-type {\n",
              "        vertical-align: middle;\n",
              "    }\n",
              "\n",
              "    .dataframe tbody tr th {\n",
              "        vertical-align: top;\n",
              "    }\n",
              "\n",
              "    .dataframe thead th {\n",
              "        text-align: right;\n",
              "    }\n",
              "</style>\n",
              "<table border=\"1\" class=\"dataframe\">\n",
              "  <thead>\n",
              "    <tr style=\"text-align: right;\">\n",
              "      <th></th>\n",
              "      <th>userid</th>\n",
              "      <th>age</th>\n",
              "      <th>dob_day</th>\n",
              "      <th>dob_year</th>\n",
              "      <th>dob_month</th>\n",
              "      <th>gender</th>\n",
              "      <th>tenure</th>\n",
              "      <th>friend_count</th>\n",
              "      <th>friendships_initiated</th>\n",
              "      <th>likes</th>\n",
              "      <th>likes_received</th>\n",
              "      <th>mobile_likes</th>\n",
              "      <th>mobile_likes_received</th>\n",
              "      <th>www_likes</th>\n",
              "      <th>www_likes_received</th>\n",
              "    </tr>\n",
              "  </thead>\n",
              "  <tbody>\n",
              "    <tr>\n",
              "      <th>0</th>\n",
              "      <td>2094382</td>\n",
              "      <td>14</td>\n",
              "      <td>19</td>\n",
              "      <td>1999</td>\n",
              "      <td>11</td>\n",
              "      <td>male</td>\n",
              "      <td>266.0</td>\n",
              "      <td>0</td>\n",
              "      <td>0</td>\n",
              "      <td>0</td>\n",
              "      <td>0</td>\n",
              "      <td>0</td>\n",
              "      <td>0</td>\n",
              "      <td>0</td>\n",
              "      <td>0</td>\n",
              "    </tr>\n",
              "    <tr>\n",
              "      <th>1</th>\n",
              "      <td>1192601</td>\n",
              "      <td>14</td>\n",
              "      <td>2</td>\n",
              "      <td>1999</td>\n",
              "      <td>11</td>\n",
              "      <td>female</td>\n",
              "      <td>6.0</td>\n",
              "      <td>0</td>\n",
              "      <td>0</td>\n",
              "      <td>0</td>\n",
              "      <td>0</td>\n",
              "      <td>0</td>\n",
              "      <td>0</td>\n",
              "      <td>0</td>\n",
              "      <td>0</td>\n",
              "    </tr>\n",
              "    <tr>\n",
              "      <th>2</th>\n",
              "      <td>2083884</td>\n",
              "      <td>14</td>\n",
              "      <td>16</td>\n",
              "      <td>1999</td>\n",
              "      <td>11</td>\n",
              "      <td>male</td>\n",
              "      <td>13.0</td>\n",
              "      <td>0</td>\n",
              "      <td>0</td>\n",
              "      <td>0</td>\n",
              "      <td>0</td>\n",
              "      <td>0</td>\n",
              "      <td>0</td>\n",
              "      <td>0</td>\n",
              "      <td>0</td>\n",
              "    </tr>\n",
              "    <tr>\n",
              "      <th>3</th>\n",
              "      <td>1203168</td>\n",
              "      <td>14</td>\n",
              "      <td>25</td>\n",
              "      <td>1999</td>\n",
              "      <td>12</td>\n",
              "      <td>female</td>\n",
              "      <td>93.0</td>\n",
              "      <td>0</td>\n",
              "      <td>0</td>\n",
              "      <td>0</td>\n",
              "      <td>0</td>\n",
              "      <td>0</td>\n",
              "      <td>0</td>\n",
              "      <td>0</td>\n",
              "      <td>0</td>\n",
              "    </tr>\n",
              "    <tr>\n",
              "      <th>4</th>\n",
              "      <td>1733186</td>\n",
              "      <td>14</td>\n",
              "      <td>4</td>\n",
              "      <td>1999</td>\n",
              "      <td>12</td>\n",
              "      <td>male</td>\n",
              "      <td>82.0</td>\n",
              "      <td>0</td>\n",
              "      <td>0</td>\n",
              "      <td>0</td>\n",
              "      <td>0</td>\n",
              "      <td>0</td>\n",
              "      <td>0</td>\n",
              "      <td>0</td>\n",
              "      <td>0</td>\n",
              "    </tr>\n",
              "    <tr>\n",
              "      <th>...</th>\n",
              "      <td>...</td>\n",
              "      <td>...</td>\n",
              "      <td>...</td>\n",
              "      <td>...</td>\n",
              "      <td>...</td>\n",
              "      <td>...</td>\n",
              "      <td>...</td>\n",
              "      <td>...</td>\n",
              "      <td>...</td>\n",
              "      <td>...</td>\n",
              "      <td>...</td>\n",
              "      <td>...</td>\n",
              "      <td>...</td>\n",
              "      <td>...</td>\n",
              "      <td>...</td>\n",
              "    </tr>\n",
              "    <tr>\n",
              "      <th>98998</th>\n",
              "      <td>1268299</td>\n",
              "      <td>68</td>\n",
              "      <td>4</td>\n",
              "      <td>1945</td>\n",
              "      <td>4</td>\n",
              "      <td>female</td>\n",
              "      <td>541.0</td>\n",
              "      <td>2118</td>\n",
              "      <td>341</td>\n",
              "      <td>3996</td>\n",
              "      <td>18089</td>\n",
              "      <td>3505</td>\n",
              "      <td>11887</td>\n",
              "      <td>491</td>\n",
              "      <td>6202</td>\n",
              "    </tr>\n",
              "    <tr>\n",
              "      <th>98999</th>\n",
              "      <td>1256153</td>\n",
              "      <td>18</td>\n",
              "      <td>12</td>\n",
              "      <td>1995</td>\n",
              "      <td>3</td>\n",
              "      <td>female</td>\n",
              "      <td>21.0</td>\n",
              "      <td>1968</td>\n",
              "      <td>1720</td>\n",
              "      <td>4401</td>\n",
              "      <td>13412</td>\n",
              "      <td>4399</td>\n",
              "      <td>10592</td>\n",
              "      <td>2</td>\n",
              "      <td>2820</td>\n",
              "    </tr>\n",
              "    <tr>\n",
              "      <th>99000</th>\n",
              "      <td>1195943</td>\n",
              "      <td>15</td>\n",
              "      <td>10</td>\n",
              "      <td>1998</td>\n",
              "      <td>5</td>\n",
              "      <td>female</td>\n",
              "      <td>111.0</td>\n",
              "      <td>2002</td>\n",
              "      <td>1524</td>\n",
              "      <td>11959</td>\n",
              "      <td>12554</td>\n",
              "      <td>11959</td>\n",
              "      <td>11462</td>\n",
              "      <td>0</td>\n",
              "      <td>1092</td>\n",
              "    </tr>\n",
              "    <tr>\n",
              "      <th>99001</th>\n",
              "      <td>1468023</td>\n",
              "      <td>23</td>\n",
              "      <td>11</td>\n",
              "      <td>1990</td>\n",
              "      <td>4</td>\n",
              "      <td>female</td>\n",
              "      <td>416.0</td>\n",
              "      <td>2560</td>\n",
              "      <td>185</td>\n",
              "      <td>4506</td>\n",
              "      <td>6516</td>\n",
              "      <td>4506</td>\n",
              "      <td>5760</td>\n",
              "      <td>0</td>\n",
              "      <td>756</td>\n",
              "    </tr>\n",
              "    <tr>\n",
              "      <th>99002</th>\n",
              "      <td>1397896</td>\n",
              "      <td>39</td>\n",
              "      <td>15</td>\n",
              "      <td>1974</td>\n",
              "      <td>5</td>\n",
              "      <td>female</td>\n",
              "      <td>397.0</td>\n",
              "      <td>2049</td>\n",
              "      <td>768</td>\n",
              "      <td>9410</td>\n",
              "      <td>12443</td>\n",
              "      <td>9410</td>\n",
              "      <td>9530</td>\n",
              "      <td>0</td>\n",
              "      <td>2913</td>\n",
              "    </tr>\n",
              "  </tbody>\n",
              "</table>\n",
              "<p>99003 rows × 15 columns</p>\n",
              "</div>"
            ],
            "text/plain": [
              "        userid  age  dob_day  dob_year  dob_month  gender  tenure  \\\n",
              "0      2094382   14       19      1999         11    male   266.0   \n",
              "1      1192601   14        2      1999         11  female     6.0   \n",
              "2      2083884   14       16      1999         11    male    13.0   \n",
              "3      1203168   14       25      1999         12  female    93.0   \n",
              "4      1733186   14        4      1999         12    male    82.0   \n",
              "...        ...  ...      ...       ...        ...     ...     ...   \n",
              "98998  1268299   68        4      1945          4  female   541.0   \n",
              "98999  1256153   18       12      1995          3  female    21.0   \n",
              "99000  1195943   15       10      1998          5  female   111.0   \n",
              "99001  1468023   23       11      1990          4  female   416.0   \n",
              "99002  1397896   39       15      1974          5  female   397.0   \n",
              "\n",
              "       friend_count  friendships_initiated  likes  likes_received  \\\n",
              "0                 0                      0      0               0   \n",
              "1                 0                      0      0               0   \n",
              "2                 0                      0      0               0   \n",
              "3                 0                      0      0               0   \n",
              "4                 0                      0      0               0   \n",
              "...             ...                    ...    ...             ...   \n",
              "98998          2118                    341   3996           18089   \n",
              "98999          1968                   1720   4401           13412   \n",
              "99000          2002                   1524  11959           12554   \n",
              "99001          2560                    185   4506            6516   \n",
              "99002          2049                    768   9410           12443   \n",
              "\n",
              "       mobile_likes  mobile_likes_received  www_likes  www_likes_received  \n",
              "0                 0                      0          0                   0  \n",
              "1                 0                      0          0                   0  \n",
              "2                 0                      0          0                   0  \n",
              "3                 0                      0          0                   0  \n",
              "4                 0                      0          0                   0  \n",
              "...             ...                    ...        ...                 ...  \n",
              "98998          3505                  11887        491                6202  \n",
              "98999          4399                  10592          2                2820  \n",
              "99000         11959                  11462          0                1092  \n",
              "99001          4506                   5760          0                 756  \n",
              "99002          9410                   9530          0                2913  \n",
              "\n",
              "[99003 rows x 15 columns]"
            ]
          },
          "execution_count": 7,
          "metadata": {},
          "output_type": "execute_result"
        }
      ],
      "source": [
        "df"
      ]
    },
    {
      "cell_type": "code",
      "execution_count": 8,
      "metadata": {
        "colab": {
          "base_uri": "https://localhost:8080/"
        },
        "id": "6RQ3nMDoSjRg",
        "outputId": "449b2cb2-b9b7-4178-cc91-245879cb8156"
      },
      "outputs": [
        {
          "data": {
            "text/plain": [
              "Index(['userid', 'age', 'dob_day', 'dob_year', 'dob_month', 'gender', 'tenure',\n",
              "       'friend_count', 'friendships_initiated', 'likes', 'likes_received',\n",
              "       'mobile_likes', 'mobile_likes_received', 'www_likes',\n",
              "       'www_likes_received'],\n",
              "      dtype='object')"
            ]
          },
          "execution_count": 8,
          "metadata": {},
          "output_type": "execute_result"
        }
      ],
      "source": [
        "df.columns"
      ]
    },
    {
      "cell_type": "code",
      "execution_count": 9,
      "metadata": {
        "colab": {
          "base_uri": "https://localhost:8080/"
        },
        "id": "_y0xffpCStzA",
        "outputId": "e6b6ccc2-5235-4518-df9e-ab38b645c367"
      },
      "outputs": [
        {
          "name": "stdout",
          "output_type": "stream",
          "text": [
            "The Number of Rows are 99003, and columns are 15.\n"
          ]
        }
      ],
      "source": [
        "print(f\"The Number of Rows are {df.shape[0]}, and columns are {df.shape[1]}.\")"
      ]
    },
    {
      "cell_type": "code",
      "execution_count": 10,
      "metadata": {
        "colab": {
          "base_uri": "https://localhost:8080/"
        },
        "id": "cNvcK-2oTh8H",
        "outputId": "bebc1e81-7472-43c6-cf16-e18040831019"
      },
      "outputs": [
        {
          "name": "stdout",
          "output_type": "stream",
          "text": [
            "<class 'pandas.core.frame.DataFrame'>\n",
            "RangeIndex: 99003 entries, 0 to 99002\n",
            "Data columns (total 15 columns):\n",
            " #   Column                 Non-Null Count  Dtype  \n",
            "---  ------                 --------------  -----  \n",
            " 0   userid                 99003 non-null  int64  \n",
            " 1   age                    99003 non-null  int64  \n",
            " 2   dob_day                99003 non-null  int64  \n",
            " 3   dob_year               99003 non-null  int64  \n",
            " 4   dob_month              99003 non-null  int64  \n",
            " 5   gender                 98828 non-null  object \n",
            " 6   tenure                 99001 non-null  float64\n",
            " 7   friend_count           99003 non-null  int64  \n",
            " 8   friendships_initiated  99003 non-null  int64  \n",
            " 9   likes                  99003 non-null  int64  \n",
            " 10  likes_received         99003 non-null  int64  \n",
            " 11  mobile_likes           99003 non-null  int64  \n",
            " 12  mobile_likes_received  99003 non-null  int64  \n",
            " 13  www_likes              99003 non-null  int64  \n",
            " 14  www_likes_received     99003 non-null  int64  \n",
            "dtypes: float64(1), int64(13), object(1)\n",
            "memory usage: 11.3+ MB\n"
          ]
        }
      ],
      "source": [
        "df.info()"
      ]
    },
    {
      "cell_type": "code",
      "execution_count": 11,
      "metadata": {
        "id": "5yrQW39ST9i3"
      },
      "outputs": [],
      "source": [
        "# We can see that above data is already has Data type , doesn't require any changes."
      ]
    },
    {
      "cell_type": "code",
      "execution_count": 12,
      "metadata": {
        "colab": {
          "base_uri": "https://localhost:8080/",
          "height": 554
        },
        "id": "vMIdgoc9UyO_",
        "outputId": "b4303b70-60f0-4862-eb2a-8b26c9c850b2"
      },
      "outputs": [
        {
          "data": {
            "text/plain": [
              "userid                     0\n",
              "age                        0\n",
              "dob_day                    0\n",
              "dob_year                   0\n",
              "dob_month                  0\n",
              "gender                   175\n",
              "tenure                     2\n",
              "friend_count               0\n",
              "friendships_initiated      0\n",
              "likes                      0\n",
              "likes_received             0\n",
              "mobile_likes               0\n",
              "mobile_likes_received      0\n",
              "www_likes                  0\n",
              "www_likes_received         0\n",
              "dtype: int64"
            ]
          },
          "execution_count": 12,
          "metadata": {},
          "output_type": "execute_result"
        }
      ],
      "source": [
        "df.isnull().sum()"
      ]
    },
    {
      "cell_type": "markdown",
      "metadata": {
        "id": "jiNC3JFMkIp_"
      },
      "source": [
        "data does not consist of any symbols , which is good thing as it not require any more data cleaning at cell level\n",
        "but we can see there are empty value which can effect the Model learning"
      ]
    },
    {
      "cell_type": "code",
      "execution_count": 13,
      "metadata": {
        "colab": {
          "base_uri": "https://localhost:8080/",
          "height": 226
        },
        "id": "flHlx7AmawWq",
        "outputId": "055eccfc-1f24-45b1-c10d-4519ca676056"
      },
      "outputs": [
        {
          "data": {
            "text/html": [
              "<div>\n",
              "<style scoped>\n",
              "    .dataframe tbody tr th:only-of-type {\n",
              "        vertical-align: middle;\n",
              "    }\n",
              "\n",
              "    .dataframe tbody tr th {\n",
              "        vertical-align: top;\n",
              "    }\n",
              "\n",
              "    .dataframe thead th {\n",
              "        text-align: right;\n",
              "    }\n",
              "</style>\n",
              "<table border=\"1\" class=\"dataframe\">\n",
              "  <thead>\n",
              "    <tr style=\"text-align: right;\">\n",
              "      <th></th>\n",
              "      <th>userid</th>\n",
              "      <th>age</th>\n",
              "      <th>dob_day</th>\n",
              "      <th>dob_year</th>\n",
              "      <th>dob_month</th>\n",
              "      <th>gender</th>\n",
              "      <th>tenure</th>\n",
              "      <th>friend_count</th>\n",
              "      <th>friendships_initiated</th>\n",
              "      <th>likes</th>\n",
              "      <th>likes_received</th>\n",
              "      <th>mobile_likes</th>\n",
              "      <th>mobile_likes_received</th>\n",
              "      <th>www_likes</th>\n",
              "      <th>www_likes_received</th>\n",
              "    </tr>\n",
              "  </thead>\n",
              "  <tbody>\n",
              "    <tr>\n",
              "      <th>0</th>\n",
              "      <td>2094382</td>\n",
              "      <td>14</td>\n",
              "      <td>19</td>\n",
              "      <td>1999</td>\n",
              "      <td>11</td>\n",
              "      <td>male</td>\n",
              "      <td>266.0</td>\n",
              "      <td>0</td>\n",
              "      <td>0</td>\n",
              "      <td>0</td>\n",
              "      <td>0</td>\n",
              "      <td>0</td>\n",
              "      <td>0</td>\n",
              "      <td>0</td>\n",
              "      <td>0</td>\n",
              "    </tr>\n",
              "    <tr>\n",
              "      <th>1</th>\n",
              "      <td>1192601</td>\n",
              "      <td>14</td>\n",
              "      <td>2</td>\n",
              "      <td>1999</td>\n",
              "      <td>11</td>\n",
              "      <td>female</td>\n",
              "      <td>6.0</td>\n",
              "      <td>0</td>\n",
              "      <td>0</td>\n",
              "      <td>0</td>\n",
              "      <td>0</td>\n",
              "      <td>0</td>\n",
              "      <td>0</td>\n",
              "      <td>0</td>\n",
              "      <td>0</td>\n",
              "    </tr>\n",
              "    <tr>\n",
              "      <th>2</th>\n",
              "      <td>2083884</td>\n",
              "      <td>14</td>\n",
              "      <td>16</td>\n",
              "      <td>1999</td>\n",
              "      <td>11</td>\n",
              "      <td>male</td>\n",
              "      <td>13.0</td>\n",
              "      <td>0</td>\n",
              "      <td>0</td>\n",
              "      <td>0</td>\n",
              "      <td>0</td>\n",
              "      <td>0</td>\n",
              "      <td>0</td>\n",
              "      <td>0</td>\n",
              "      <td>0</td>\n",
              "    </tr>\n",
              "    <tr>\n",
              "      <th>3</th>\n",
              "      <td>1203168</td>\n",
              "      <td>14</td>\n",
              "      <td>25</td>\n",
              "      <td>1999</td>\n",
              "      <td>12</td>\n",
              "      <td>female</td>\n",
              "      <td>93.0</td>\n",
              "      <td>0</td>\n",
              "      <td>0</td>\n",
              "      <td>0</td>\n",
              "      <td>0</td>\n",
              "      <td>0</td>\n",
              "      <td>0</td>\n",
              "      <td>0</td>\n",
              "      <td>0</td>\n",
              "    </tr>\n",
              "    <tr>\n",
              "      <th>4</th>\n",
              "      <td>1733186</td>\n",
              "      <td>14</td>\n",
              "      <td>4</td>\n",
              "      <td>1999</td>\n",
              "      <td>12</td>\n",
              "      <td>male</td>\n",
              "      <td>82.0</td>\n",
              "      <td>0</td>\n",
              "      <td>0</td>\n",
              "      <td>0</td>\n",
              "      <td>0</td>\n",
              "      <td>0</td>\n",
              "      <td>0</td>\n",
              "      <td>0</td>\n",
              "      <td>0</td>\n",
              "    </tr>\n",
              "  </tbody>\n",
              "</table>\n",
              "</div>"
            ],
            "text/plain": [
              "    userid  age  dob_day  dob_year  dob_month  gender  tenure  friend_count  \\\n",
              "0  2094382   14       19      1999         11    male   266.0             0   \n",
              "1  1192601   14        2      1999         11  female     6.0             0   \n",
              "2  2083884   14       16      1999         11    male    13.0             0   \n",
              "3  1203168   14       25      1999         12  female    93.0             0   \n",
              "4  1733186   14        4      1999         12    male    82.0             0   \n",
              "\n",
              "   friendships_initiated  likes  likes_received  mobile_likes  \\\n",
              "0                      0      0               0             0   \n",
              "1                      0      0               0             0   \n",
              "2                      0      0               0             0   \n",
              "3                      0      0               0             0   \n",
              "4                      0      0               0             0   \n",
              "\n",
              "   mobile_likes_received  www_likes  www_likes_received  \n",
              "0                      0          0                   0  \n",
              "1                      0          0                   0  \n",
              "2                      0          0                   0  \n",
              "3                      0          0                   0  \n",
              "4                      0          0                   0  "
            ]
          },
          "execution_count": 13,
          "metadata": {},
          "output_type": "execute_result"
        }
      ],
      "source": [
        "df.head()"
      ]
    },
    {
      "cell_type": "code",
      "execution_count": 14,
      "metadata": {
        "colab": {
          "base_uri": "https://localhost:8080/"
        },
        "collapsed": true,
        "id": "7Ms0nM2FWAJt",
        "outputId": "01d70dac-5f2b-403e-9801-0797a5fc747e"
      },
      "outputs": [
        {
          "name": "stderr",
          "output_type": "stream",
          "text": [
            "C:\\Users\\tempu\\AppData\\Local\\Temp\\ipykernel_7756\\2392401567.py:3: UserWarning: Parsing dates in %d-%m-%Y format when dayfirst=False (the default) was specified. Pass `dayfirst=True` or specify a format to silence this warning.\n",
            "  df['DOB'] = pd.to_datetime(df['DOB']) # Changing the data type\n"
          ]
        }
      ],
      "source": [
        "#concating the Date of birth columns\n",
        "df['DOB'] = df.apply(lambda x:'%s-%s-%s' % (x['dob_day'],x['dob_month'],x['dob_year']),axis=1)\n",
        "df['DOB'] = pd.to_datetime(df['DOB']) # Changing the data type"
      ]
    },
    {
      "cell_type": "code",
      "execution_count": 15,
      "metadata": {
        "colab": {
          "base_uri": "https://localhost:8080/"
        },
        "id": "A6Bg-knuf5lz",
        "outputId": "03fe34bf-5872-47e0-d564-ca6ed88e9aaf"
      },
      "outputs": [
        {
          "data": {
            "text/plain": [
              "dtype('<M8[ns]')"
            ]
          },
          "execution_count": 15,
          "metadata": {},
          "output_type": "execute_result"
        }
      ],
      "source": [
        "df['DOB'].dtype"
      ]
    },
    {
      "cell_type": "code",
      "execution_count": 16,
      "metadata": {
        "colab": {
          "base_uri": "https://localhost:8080/"
        },
        "id": "HVaXPByhiqGZ",
        "outputId": "71b9d1f0-931b-4376-a802-278d663b546f"
      },
      "outputs": [
        {
          "name": "stdout",
          "output_type": "stream",
          "text": [
            "age\n",
            "18     5196\n",
            "23     4404\n",
            "19     4391\n",
            "20     3769\n",
            "21     3671\n",
            "25     3641\n",
            "17     3283\n",
            "16     3086\n",
            "22     3032\n",
            "24     2827\n",
            "26     2815\n",
            "15     2618\n",
            "28     2364\n",
            "27     2240\n",
            "33     1999\n",
            "29     1936\n",
            "14     1925\n",
            "30     1716\n",
            "31     1694\n",
            "108    1661\n",
            "32     1443\n",
            "34     1257\n",
            "53     1192\n",
            "35     1175\n",
            "36     1118\n",
            "38     1099\n",
            "43     1063\n",
            "103    1044\n",
            "52      995\n",
            "51      971\n",
            "37      969\n",
            "50      966\n",
            "49      951\n",
            "54      951\n",
            "57      932\n",
            "55      925\n",
            "63      907\n",
            "39      902\n",
            "47      902\n",
            "48      896\n",
            "58      893\n",
            "56      878\n",
            "44      877\n",
            "46      851\n",
            "68      846\n",
            "42      835\n",
            "40      835\n",
            "59      834\n",
            "61      832\n",
            "45      826\n",
            "41      801\n",
            "60      748\n",
            "62      736\n",
            "64      709\n",
            "66      703\n",
            "65      693\n",
            "67      604\n",
            "13      484\n",
            "69      460\n",
            "70      365\n",
            "71      352\n",
            "73      330\n",
            "100     325\n",
            "72      296\n",
            "74      281\n",
            "75      233\n",
            "93      203\n",
            "113     202\n",
            "102     187\n",
            "94      184\n",
            "76      178\n",
            "77      169\n",
            "78      162\n",
            "101     157\n",
            "83      152\n",
            "80      136\n",
            "106     125\n",
            "79      112\n",
            "81      108\n",
            "107      98\n",
            "98       93\n",
            "84       86\n",
            "99       83\n",
            "85       83\n",
            "105      80\n",
            "82       78\n",
            "95       77\n",
            "91       76\n",
            "86       76\n",
            "104      73\n",
            "90       71\n",
            "96       70\n",
            "88       61\n",
            "89       60\n",
            "97       56\n",
            "92       52\n",
            "87       42\n",
            "112      18\n",
            "111      18\n",
            "110      15\n",
            "109       9\n",
            "Name: count, dtype: int64\n"
          ]
        }
      ],
      "source": [
        "pd.set_option('display.max_row', None)\n",
        "\n",
        "#For checking we are not getting invalid data\n",
        "print(df['age'].value_counts())"
      ]
    },
    {
      "cell_type": "markdown",
      "metadata": {
        "id": "zq5NM8UgjrRu"
      },
      "source": [
        "It is Hard to trust the data where age of above 80 are able to understand and use technology for be on Face book."
      ]
    },
    {
      "cell_type": "code",
      "execution_count": 17,
      "metadata": {
        "colab": {
          "base_uri": "https://localhost:8080/"
        },
        "id": "7KOdTiBajlM4",
        "outputId": "ad302bb2-beae-4220-c6fb-105e11e975b4"
      },
      "outputs": [
        {
          "name": "stdout",
          "output_type": "stream",
          "text": [
            "gender\n",
            "male      58574\n",
            "female    40254\n",
            "Name: count, dtype: int64\n"
          ]
        }
      ],
      "source": [
        "print(df['gender'].value_counts())"
      ]
    },
    {
      "cell_type": "code",
      "execution_count": 18,
      "metadata": {
        "id": "Sehh04IKkqsQ"
      },
      "outputs": [],
      "source": [
        "df.dropna(inplace = True) #droping the rows in for the values are null ,  as we have large data set it will not effect much on out come."
      ]
    },
    {
      "cell_type": "code",
      "execution_count": 19,
      "metadata": {
        "colab": {
          "base_uri": "https://localhost:8080/"
        },
        "id": "Fz6D7TKHlaOX",
        "outputId": "1c1d0dee-e108-4eb7-b2a3-4646d9e6e4bd"
      },
      "outputs": [
        {
          "name": "stdout",
          "output_type": "stream",
          "text": [
            "<class 'pandas.core.frame.DataFrame'>\n",
            "Index: 98826 entries, 0 to 99002\n",
            "Data columns (total 16 columns):\n",
            " #   Column                 Non-Null Count  Dtype         \n",
            "---  ------                 --------------  -----         \n",
            " 0   userid                 98826 non-null  int64         \n",
            " 1   age                    98826 non-null  int64         \n",
            " 2   dob_day                98826 non-null  int64         \n",
            " 3   dob_year               98826 non-null  int64         \n",
            " 4   dob_month              98826 non-null  int64         \n",
            " 5   gender                 98826 non-null  object        \n",
            " 6   tenure                 98826 non-null  float64       \n",
            " 7   friend_count           98826 non-null  int64         \n",
            " 8   friendships_initiated  98826 non-null  int64         \n",
            " 9   likes                  98826 non-null  int64         \n",
            " 10  likes_received         98826 non-null  int64         \n",
            " 11  mobile_likes           98826 non-null  int64         \n",
            " 12  mobile_likes_received  98826 non-null  int64         \n",
            " 13  www_likes              98826 non-null  int64         \n",
            " 14  www_likes_received     98826 non-null  int64         \n",
            " 15  DOB                    98826 non-null  datetime64[ns]\n",
            "dtypes: datetime64[ns](1), float64(1), int64(13), object(1)\n",
            "memory usage: 12.8+ MB\n"
          ]
        }
      ],
      "source": [
        "df.info()"
      ]
    },
    {
      "cell_type": "markdown",
      "metadata": {
        "id": "3ovxUCJzmrvl"
      },
      "source": [
        "We will be removing the rows of data for which age is above 80 , beacuse it is a for loop it will take some time to excetute"
      ]
    },
    {
      "cell_type": "code",
      "execution_count": 20,
      "metadata": {
        "id": "FSGUdmZel4wH"
      },
      "outputs": [],
      "source": [
        "for x in df.index:\n",
        "  if df.loc[x, \"age\"] > 80:\n",
        "    df.drop(x, inplace = True)"
      ]
    },
    {
      "cell_type": "code",
      "execution_count": 21,
      "metadata": {
        "colab": {
          "base_uri": "https://localhost:8080/"
        },
        "id": "5swBrzs0mi3G",
        "outputId": "567e4b91-85ce-4d39-c58d-ca6f17a958e5"
      },
      "outputs": [
        {
          "name": "stdout",
          "output_type": "stream",
          "text": [
            "<class 'pandas.core.frame.DataFrame'>\n",
            "Index: 93182 entries, 0 to 99002\n",
            "Data columns (total 16 columns):\n",
            " #   Column                 Non-Null Count  Dtype         \n",
            "---  ------                 --------------  -----         \n",
            " 0   userid                 93182 non-null  int64         \n",
            " 1   age                    93182 non-null  int64         \n",
            " 2   dob_day                93182 non-null  int64         \n",
            " 3   dob_year               93182 non-null  int64         \n",
            " 4   dob_month              93182 non-null  int64         \n",
            " 5   gender                 93182 non-null  object        \n",
            " 6   tenure                 93182 non-null  float64       \n",
            " 7   friend_count           93182 non-null  int64         \n",
            " 8   friendships_initiated  93182 non-null  int64         \n",
            " 9   likes                  93182 non-null  int64         \n",
            " 10  likes_received         93182 non-null  int64         \n",
            " 11  mobile_likes           93182 non-null  int64         \n",
            " 12  mobile_likes_received  93182 non-null  int64         \n",
            " 13  www_likes              93182 non-null  int64         \n",
            " 14  www_likes_received     93182 non-null  int64         \n",
            " 15  DOB                    93182 non-null  datetime64[ns]\n",
            "dtypes: datetime64[ns](1), float64(1), int64(13), object(1)\n",
            "memory usage: 14.1+ MB\n"
          ]
        }
      ],
      "source": [
        "df.info()"
      ]
    },
    {
      "cell_type": "code",
      "execution_count": 22,
      "metadata": {
        "id": "HFiW1VI5n1ZM"
      },
      "outputs": [],
      "source": [
        "df['age'] = pd.to_numeric(df['age'], downcast=\"integer\")"
      ]
    },
    {
      "cell_type": "code",
      "execution_count": 23,
      "metadata": {
        "colab": {
          "base_uri": "https://localhost:8080/"
        },
        "id": "be0PCEAPm_pO",
        "outputId": "715a7449-79b3-435b-fb12-de1ecab8300b"
      },
      "outputs": [
        {
          "name": "stdout",
          "output_type": "stream",
          "text": [
            "<class 'pandas.core.frame.DataFrame'>\n",
            "Index: 93182 entries, 0 to 99002\n",
            "Data columns (total 16 columns):\n",
            " #   Column                 Non-Null Count  Dtype         \n",
            "---  ------                 --------------  -----         \n",
            " 0   userid                 93182 non-null  int64         \n",
            " 1   age                    93182 non-null  int8          \n",
            " 2   dob_day                93182 non-null  int64         \n",
            " 3   dob_year               93182 non-null  int64         \n",
            " 4   dob_month              93182 non-null  int64         \n",
            " 5   gender                 93182 non-null  object        \n",
            " 6   tenure                 93182 non-null  float64       \n",
            " 7   friend_count           93182 non-null  int64         \n",
            " 8   friendships_initiated  93182 non-null  int64         \n",
            " 9   likes                  93182 non-null  int64         \n",
            " 10  likes_received         93182 non-null  int64         \n",
            " 11  mobile_likes           93182 non-null  int64         \n",
            " 12  mobile_likes_received  93182 non-null  int64         \n",
            " 13  www_likes              93182 non-null  int64         \n",
            " 14  www_likes_received     93182 non-null  int64         \n",
            " 15  DOB                    93182 non-null  datetime64[ns]\n",
            "dtypes: datetime64[ns](1), float64(1), int64(12), int8(1), object(1)\n",
            "memory usage: 13.5+ MB\n"
          ]
        }
      ],
      "source": [
        "df.info()"
      ]
    },
    {
      "cell_type": "code",
      "execution_count": 24,
      "metadata": {
        "colab": {
          "base_uri": "https://localhost:8080/",
          "height": 424
        },
        "id": "sbeWM37UocZN",
        "outputId": "e2a092e8-eb41-41b6-90b6-da7642c08862"
      },
      "outputs": [
        {
          "data": {
            "text/html": [
              "<div>\n",
              "<style scoped>\n",
              "    .dataframe tbody tr th:only-of-type {\n",
              "        vertical-align: middle;\n",
              "    }\n",
              "\n",
              "    .dataframe tbody tr th {\n",
              "        vertical-align: top;\n",
              "    }\n",
              "\n",
              "    .dataframe thead th {\n",
              "        text-align: right;\n",
              "    }\n",
              "</style>\n",
              "<table border=\"1\" class=\"dataframe\">\n",
              "  <thead>\n",
              "    <tr style=\"text-align: right;\">\n",
              "      <th></th>\n",
              "      <th>userid</th>\n",
              "      <th>age</th>\n",
              "      <th>dob_day</th>\n",
              "      <th>dob_year</th>\n",
              "      <th>dob_month</th>\n",
              "      <th>tenure</th>\n",
              "      <th>friend_count</th>\n",
              "      <th>friendships_initiated</th>\n",
              "      <th>likes</th>\n",
              "      <th>likes_received</th>\n",
              "      <th>mobile_likes</th>\n",
              "      <th>mobile_likes_received</th>\n",
              "      <th>www_likes</th>\n",
              "      <th>www_likes_received</th>\n",
              "      <th>DOB</th>\n",
              "    </tr>\n",
              "  </thead>\n",
              "  <tbody>\n",
              "    <tr>\n",
              "      <th>count</th>\n",
              "      <td>9.318200e+04</td>\n",
              "      <td>93182.000000</td>\n",
              "      <td>93182.000000</td>\n",
              "      <td>93182.000000</td>\n",
              "      <td>93182.000000</td>\n",
              "      <td>93182.00000</td>\n",
              "      <td>93182.000000</td>\n",
              "      <td>93182.000000</td>\n",
              "      <td>93182.000000</td>\n",
              "      <td>93182.000000</td>\n",
              "      <td>93182.000000</td>\n",
              "      <td>93182.000000</td>\n",
              "      <td>93182.000000</td>\n",
              "      <td>93182.000000</td>\n",
              "      <td>93182</td>\n",
              "    </tr>\n",
              "    <tr>\n",
              "      <th>mean</th>\n",
              "      <td>1.597326e+06</td>\n",
              "      <td>33.353974</td>\n",
              "      <td>14.523706</td>\n",
              "      <td>1979.646026</td>\n",
              "      <td>6.285624</td>\n",
              "      <td>502.57597</td>\n",
              "      <td>185.342598</td>\n",
              "      <td>103.002050</td>\n",
              "      <td>156.390805</td>\n",
              "      <td>143.568822</td>\n",
              "      <td>106.797987</td>\n",
              "      <td>84.385708</td>\n",
              "      <td>49.592765</td>\n",
              "      <td>59.183072</td>\n",
              "      <td>1980-02-14 19:06:08.028159936</td>\n",
              "    </tr>\n",
              "    <tr>\n",
              "      <th>min</th>\n",
              "      <td>1.000008e+06</td>\n",
              "      <td>13.000000</td>\n",
              "      <td>1.000000</td>\n",
              "      <td>1933.000000</td>\n",
              "      <td>1.000000</td>\n",
              "      <td>0.00000</td>\n",
              "      <td>0.000000</td>\n",
              "      <td>0.000000</td>\n",
              "      <td>0.000000</td>\n",
              "      <td>0.000000</td>\n",
              "      <td>0.000000</td>\n",
              "      <td>0.000000</td>\n",
              "      <td>0.000000</td>\n",
              "      <td>0.000000</td>\n",
              "      <td>1933-01-01 00:00:00</td>\n",
              "    </tr>\n",
              "    <tr>\n",
              "      <th>25%</th>\n",
              "      <td>1.299138e+06</td>\n",
              "      <td>20.000000</td>\n",
              "      <td>7.000000</td>\n",
              "      <td>1968.000000</td>\n",
              "      <td>3.000000</td>\n",
              "      <td>220.00000</td>\n",
              "      <td>29.000000</td>\n",
              "      <td>16.000000</td>\n",
              "      <td>1.000000</td>\n",
              "      <td>0.000000</td>\n",
              "      <td>0.000000</td>\n",
              "      <td>0.000000</td>\n",
              "      <td>0.000000</td>\n",
              "      <td>0.000000</td>\n",
              "      <td>1968-07-01 00:00:00</td>\n",
              "    </tr>\n",
              "    <tr>\n",
              "      <th>50%</th>\n",
              "      <td>1.596340e+06</td>\n",
              "      <td>27.000000</td>\n",
              "      <td>14.000000</td>\n",
              "      <td>1986.000000</td>\n",
              "      <td>6.000000</td>\n",
              "      <td>397.00000</td>\n",
              "      <td>78.000000</td>\n",
              "      <td>44.000000</td>\n",
              "      <td>10.000000</td>\n",
              "      <td>8.000000</td>\n",
              "      <td>4.000000</td>\n",
              "      <td>4.000000</td>\n",
              "      <td>0.000000</td>\n",
              "      <td>2.000000</td>\n",
              "      <td>1986-04-25 00:00:00</td>\n",
              "    </tr>\n",
              "    <tr>\n",
              "      <th>75%</th>\n",
              "      <td>1.896225e+06</td>\n",
              "      <td>45.000000</td>\n",
              "      <td>22.000000</td>\n",
              "      <td>1993.000000</td>\n",
              "      <td>9.000000</td>\n",
              "      <td>634.00000</td>\n",
              "      <td>194.000000</td>\n",
              "      <td>111.000000</td>\n",
              "      <td>79.000000</td>\n",
              "      <td>57.000000</td>\n",
              "      <td>45.000000</td>\n",
              "      <td>32.000000</td>\n",
              "      <td>6.000000</td>\n",
              "      <td>19.000000</td>\n",
              "      <td>1993-05-17 00:00:00</td>\n",
              "    </tr>\n",
              "    <tr>\n",
              "      <th>max</th>\n",
              "      <td>2.193542e+06</td>\n",
              "      <td>80.000000</td>\n",
              "      <td>31.000000</td>\n",
              "      <td>2000.000000</td>\n",
              "      <td>12.000000</td>\n",
              "      <td>2592.00000</td>\n",
              "      <td>4917.000000</td>\n",
              "      <td>4144.000000</td>\n",
              "      <td>25111.000000</td>\n",
              "      <td>261197.000000</td>\n",
              "      <td>25111.000000</td>\n",
              "      <td>138561.000000</td>\n",
              "      <td>14865.000000</td>\n",
              "      <td>129953.000000</td>\n",
              "      <td>2000-10-27 00:00:00</td>\n",
              "    </tr>\n",
              "    <tr>\n",
              "      <th>std</th>\n",
              "      <td>3.441139e+05</td>\n",
              "      <td>16.530006</td>\n",
              "      <td>8.990649</td>\n",
              "      <td>16.530006</td>\n",
              "      <td>3.522300</td>\n",
              "      <td>420.18562</td>\n",
              "      <td>370.382207</td>\n",
              "      <td>184.153198</td>\n",
              "      <td>578.714834</td>\n",
              "      <td>1424.802598</td>\n",
              "      <td>449.264283</td>\n",
              "      <td>859.260795</td>\n",
              "      <td>289.642991</td>\n",
              "      <td>618.825448</td>\n",
              "      <td>NaN</td>\n",
              "    </tr>\n",
              "  </tbody>\n",
              "</table>\n",
              "</div>"
            ],
            "text/plain": [
              "             userid           age       dob_day      dob_year     dob_month  \\\n",
              "count  9.318200e+04  93182.000000  93182.000000  93182.000000  93182.000000   \n",
              "mean   1.597326e+06     33.353974     14.523706   1979.646026      6.285624   \n",
              "min    1.000008e+06     13.000000      1.000000   1933.000000      1.000000   \n",
              "25%    1.299138e+06     20.000000      7.000000   1968.000000      3.000000   \n",
              "50%    1.596340e+06     27.000000     14.000000   1986.000000      6.000000   \n",
              "75%    1.896225e+06     45.000000     22.000000   1993.000000      9.000000   \n",
              "max    2.193542e+06     80.000000     31.000000   2000.000000     12.000000   \n",
              "std    3.441139e+05     16.530006      8.990649     16.530006      3.522300   \n",
              "\n",
              "            tenure  friend_count  friendships_initiated         likes  \\\n",
              "count  93182.00000  93182.000000           93182.000000  93182.000000   \n",
              "mean     502.57597    185.342598             103.002050    156.390805   \n",
              "min        0.00000      0.000000               0.000000      0.000000   \n",
              "25%      220.00000     29.000000              16.000000      1.000000   \n",
              "50%      397.00000     78.000000              44.000000     10.000000   \n",
              "75%      634.00000    194.000000             111.000000     79.000000   \n",
              "max     2592.00000   4917.000000            4144.000000  25111.000000   \n",
              "std      420.18562    370.382207             184.153198    578.714834   \n",
              "\n",
              "       likes_received  mobile_likes  mobile_likes_received     www_likes  \\\n",
              "count    93182.000000  93182.000000           93182.000000  93182.000000   \n",
              "mean       143.568822    106.797987              84.385708     49.592765   \n",
              "min          0.000000      0.000000               0.000000      0.000000   \n",
              "25%          0.000000      0.000000               0.000000      0.000000   \n",
              "50%          8.000000      4.000000               4.000000      0.000000   \n",
              "75%         57.000000     45.000000              32.000000      6.000000   \n",
              "max     261197.000000  25111.000000          138561.000000  14865.000000   \n",
              "std       1424.802598    449.264283             859.260795    289.642991   \n",
              "\n",
              "       www_likes_received                            DOB  \n",
              "count        93182.000000                          93182  \n",
              "mean            59.183072  1980-02-14 19:06:08.028159936  \n",
              "min              0.000000            1933-01-01 00:00:00  \n",
              "25%              0.000000            1968-07-01 00:00:00  \n",
              "50%              2.000000            1986-04-25 00:00:00  \n",
              "75%             19.000000            1993-05-17 00:00:00  \n",
              "max         129953.000000            2000-10-27 00:00:00  \n",
              "std            618.825448                            NaN  "
            ]
          },
          "execution_count": 24,
          "metadata": {},
          "output_type": "execute_result"
        }
      ],
      "source": [
        "df.describe()"
      ]
    },
    {
      "cell_type": "code",
      "execution_count": 25,
      "metadata": {
        "colab": {
          "base_uri": "https://localhost:8080/"
        },
        "collapsed": true,
        "id": "wTZamKOJovFi",
        "outputId": "f51cdc93-a483-4192-d132-3289e5b97968"
      },
      "outputs": [
        {
          "data": {
            "text/plain": [
              "np.False_"
            ]
          },
          "execution_count": 25,
          "metadata": {},
          "output_type": "execute_result"
        }
      ],
      "source": [
        "df['userid'].duplicated().any()"
      ]
    }
  ],
  "metadata": {
    "colab": {
      "authorship_tag": "ABX9TyP40tYw7LkfPb9qW9/oEhoz",
      "include_colab_link": true,
      "provenance": []
    },
    "kernelspec": {
      "display_name": "Python 3",
      "name": "python3"
    },
    "language_info": {
      "codemirror_mode": {
        "name": "ipython",
        "version": 3
      },
      "file_extension": ".py",
      "mimetype": "text/x-python",
      "name": "python",
      "nbconvert_exporter": "python",
      "pygments_lexer": "ipython3",
      "version": "3.10.18"
    }
  },
  "nbformat": 4,
  "nbformat_minor": 0
}
