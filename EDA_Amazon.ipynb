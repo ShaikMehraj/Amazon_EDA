{
  "cells": [
    {
      "cell_type": "code",
      "execution_count": null,
      "metadata": {
        "id": "uyPjBUjpS2FB"
      },
      "outputs": [],
      "source": [
        "import pandas as pd\n",
        "import numpy as np\n",
        "import matplotlib.pyplot as plt\n",
        "import seaborn as sns\n",
        "import scipy as sp\n",
        "\n",
        "%matplotlib inline"
      ]
    },
    {
      "cell_type": "code",
      "execution_count": null,
      "metadata": {},
      "outputs": [],
      "source": [
        "df = pd.read_csv(\"amazon.csv\")"
      ]
    },
    {
      "cell_type": "code",
      "execution_count": null,
      "metadata": {},
      "outputs": [],
      "source": [
        "pd.set_option('display.max_columns', None) "
      ]
    },
    {
      "cell_type": "code",
      "execution_count": null,
      "metadata": {},
      "outputs": [],
      "source": [
        "df.head(5)"
      ]
    },
    {
      "cell_type": "code",
      "execution_count": null,
      "metadata": {},
      "outputs": [],
      "source": [
        "df.columns"
      ]
    },
    {
      "cell_type": "code",
      "execution_count": null,
      "metadata": {},
      "outputs": [],
      "source": [
        "print(f\"The Number of Rows are {df.shape[0]}, and columns are {df.shape[1]}.\")"
      ]
    },
    {
      "cell_type": "code",
      "execution_count": null,
      "metadata": {},
      "outputs": [],
      "source": [
        "df.info()"
      ]
    },
    {
      "cell_type": "code",
      "execution_count": null,
      "metadata": {},
      "outputs": [],
      "source": [
        "df.isnull().sum()"
      ]
    },
    {
      "cell_type": "markdown",
      "metadata": {},
      "source": [
        "Changing Data Types of Columns from object to float"
      ]
    },
    {
      "cell_type": "code",
      "execution_count": null,
      "metadata": {},
      "outputs": [],
      "source": [
        "df['discounted_price'] = df['discounted_price'].str.replace(\"₹\",'')\n",
        "df['discounted_price'] = df['discounted_price'].str.replace(\",\",'')\n",
        "df['discounted_price'] = df['discounted_price'].astype('float64')\n",
        "\n",
        "df['actual_price'] = df['actual_price'].str.replace(\"₹\",'')\n",
        "df['actual_price'] = df['actual_price'].str.replace(\",\",'')\n",
        "df['actual_price'] = df['actual_price'].astype('float64')"
      ]
    },
    {
      "cell_type": "code",
      "execution_count": null,
      "metadata": {},
      "outputs": [],
      "source": [
        "df['discount_percentage'] = df['discount_percentage'].str.replace('%','').astype('float64')\n",
        "\n",
        "df['discount_percentage'] = df['discount_percentage'] / 100"
      ]
    },
    {
      "cell_type": "code",
      "execution_count": null,
      "metadata": {},
      "outputs": [],
      "source": [
        "df['rating'].value_counts()"
      ]
    },
    {
      "cell_type": "code",
      "execution_count": null,
      "metadata": {},
      "outputs": [],
      "source": [
        "# Check the strange row\n",
        "df.query('rating == \"|\"')"
      ]
    },
    {
      "cell_type": "code",
      "execution_count": null,
      "metadata": {},
      "outputs": [],
      "source": [
        "df['rating'] = df['rating'].str.replace('|', '3.9').astype('float64')"
      ]
    },
    {
      "cell_type": "code",
      "execution_count": null,
      "metadata": {},
      "outputs": [],
      "source": [
        "df['rating_count'] = df['rating_count'].str.replace(',', '').astype('float64')"
      ]
    },
    {
      "cell_type": "code",
      "execution_count": null,
      "metadata": {},
      "outputs": [],
      "source": [
        "df.info()"
      ]
    },
    {
      "cell_type": "markdown",
      "metadata": {},
      "source": [
        "Descriptive Statistics"
      ]
    },
    {
      "cell_type": "code",
      "execution_count": null,
      "metadata": {},
      "outputs": [],
      "source": [
        "df.describe()"
      ]
    },
    {
      "cell_type": "markdown",
      "metadata": {},
      "source": [
        "Dealing with the missing values"
      ]
    },
    {
      "cell_type": "code",
      "execution_count": null,
      "metadata": {},
      "outputs": [],
      "source": [
        "df.isnull().sum().sort_values(ascending = False)"
      ]
    },
    {
      "cell_type": "code",
      "execution_count": null,
      "metadata": {},
      "outputs": [],
      "source": [
        "# Find missing values percentage in the data\n",
        "round(df.isnull().sum() / len(df) * 100, 2).sort_values(ascending=False) "
      ]
    },
    {
      "cell_type": "code",
      "execution_count": null,
      "metadata": {},
      "outputs": [],
      "source": [
        "df.isnull().sum().sum()"
      ]
    },
    {
      "cell_type": "markdown",
      "metadata": {},
      "source": [
        "Plotting Missing Values"
      ]
    },
    {
      "cell_type": "code",
      "execution_count": null,
      "metadata": {},
      "outputs": [],
      "source": [
        "# make a figure size\n",
        "plt.figure(figsize=(22, 10))\n",
        "# plot the null values in each column\n",
        "sns.heatmap(df.isnull(), yticklabels=False, cbar=False, cmap='viridis') "
      ]
    },
    {
      "cell_type": "code",
      "execution_count": null,
      "metadata": {},
      "outputs": [],
      "source": [
        "# make figure size\n",
        "plt.figure(figsize=(22, 10))\n",
        "# plot the null values by their percentage in each column\n",
        "missing_percentage = df.isnull().sum()/len(df)*100\n",
        "missing_percentage.plot(kind='bar')\n",
        "# add the labels\n",
        "plt.xlabel('Columns')\n",
        "plt.ylabel('Percentage')\n",
        "plt.title('Percentage of Missing Values in each Column')"
      ]
    },
    {
      "cell_type": "code",
      "execution_count": null,
      "metadata": {},
      "outputs": [],
      "source": [
        "df[df['rating_count'].isnull()].head(5)"
      ]
    },
    {
      "cell_type": "code",
      "execution_count": null,
      "metadata": {},
      "outputs": [],
      "source": [
        "# Impute missing values\n",
        "df['rating_count'] = df.rating_count.fillna(value=df['rating_count'].median())"
      ]
    },
    {
      "cell_type": "code",
      "execution_count": null,
      "metadata": {},
      "outputs": [],
      "source": [
        "df.isnull().sum().sort_values(ascending = False)"
      ]
    },
    {
      "cell_type": "code",
      "execution_count": null,
      "metadata": {},
      "outputs": [],
      "source": [
        "df.duplicated().any()"
      ]
    },
    {
      "cell_type": "code",
      "execution_count": null,
      "metadata": {},
      "outputs": [],
      "source": [
        "df.columns"
      ]
    },
    {
      "cell_type": "code",
      "execution_count": null,
      "metadata": {},
      "outputs": [],
      "source": [
        "any_duplicates = df.duplicated(subset=['product_id', 'product_name', 'category', 'discounted_price',\n",
        "       'actual_price', 'discount_percentage', 'rating', 'rating_count',\n",
        "       'about_product', 'user_id', 'user_name', 'review_id', 'review_title',\n",
        "       'review_content', 'img_link', 'product_link']).any()"
      ]
    },
    {
      "cell_type": "code",
      "execution_count": null,
      "metadata": {},
      "outputs": [],
      "source": [
        "any_duplicates"
      ]
    },
    {
      "cell_type": "markdown",
      "metadata": {},
      "source": [
        "Data Visualization"
      ]
    },
    {
      "cell_type": "code",
      "execution_count": null,
      "metadata": {},
      "outputs": [],
      "source": [
        "# Plot actual_price vs. rating\n",
        "plt.scatter(df['actual_price'], df['rating'])\n",
        "plt.xlabel('Actual_price')\n",
        "plt.ylabel('Rating')\n",
        "plt.show()"
      ]
    },
    {
      "cell_type": "code",
      "execution_count": null,
      "metadata": {},
      "outputs": [],
      "source": [
        "# dont show warnings\n",
        "import warnings\n",
        "warnings.filterwarnings('ignore')"
      ]
    },
    {
      "cell_type": "code",
      "execution_count": null,
      "metadata": {},
      "outputs": [],
      "source": [
        "# Plot distribution of actual_price\n",
        "plt.hist(df['actual_price'])\n",
        "plt.xlabel('Actual Price')\n",
        "plt.ylabel('Frequency')\n",
        "plt.show()"
      ]
    },
    {
      "cell_type": "code",
      "execution_count": null,
      "metadata": {},
      "outputs": [],
      "source": [
        "from sklearn.preprocessing import LabelEncoder\n",
        "# label encode categorical variables\n",
        "\n",
        "le_product_id = LabelEncoder()\n",
        "le_category = LabelEncoder()\n",
        "le_review_id = LabelEncoder()\n",
        "le_review_content = LabelEncoder()\n",
        "le_product_name = LabelEncoder()\n",
        "le_user_name = LabelEncoder()\n",
        "le_about_product = LabelEncoder()\n",
        "le_user_id = LabelEncoder()\n",
        "le_review_title = LabelEncoder()\n",
        "le_img_link = LabelEncoder()\n",
        "le_product_link = LabelEncoder()\n",
        "\n",
        "\n",
        "df['product_id'] = le_product_id.fit_transform(df['product_id'])\n",
        "df['category'] = le_category.fit_transform(df['category'])\n",
        "df['review_id'] = le_review_id.fit_transform(df['review_id'])\n",
        "df['review_content'] = le_review_content.fit_transform(df['review_content'])\n",
        "df['product_name'] = le_product_name.fit_transform(df['product_name'])\n",
        "df['user_name'] = le_user_name.fit_transform(df['user_name'])\n",
        "df['about_product'] = le_about_product.fit_transform(df['about_product'])\n",
        "df['user_id'] = le_user_id.fit_transform(df['user_id'])\n",
        "df['review_title'] = le_review_title.fit_transform(df['review_title'])\n",
        "df['img_link'] = le_img_link.fit_transform(df['img_link'])\n",
        "df['product_link'] = le_product_link.fit_transform(df['product_link'])"
      ]
    },
    {
      "cell_type": "markdown",
      "metadata": {},
      "source": [
        "Heatmap"
      ]
    },
    {
      "cell_type": "code",
      "execution_count": null,
      "metadata": {},
      "outputs": [],
      "source": [
        "# Plot correlations between variables\n",
        "correlation_matrix = df.corr()\n",
        "sns.heatmap(correlation_matrix, annot=True)\n",
        "plt.show()"
      ]
    },
    {
      "cell_type": "code",
      "execution_count": null,
      "metadata": {},
      "outputs": [],
      "source": [
        "# Calculate Pearson correlation coefficients (default in Pandas)\n",
        "correlation_matrix = df.corr()\n",
        "\n",
        "# Print the correlation matrix\n",
        "print(correlation_matrix)\n",
        "\n",
        "# Create a heatmap to visualize the correlations\n",
        "sns.heatmap(correlation_matrix, annot=True, cmap=\"coolwarm\")\n",
        "plt.title(\"Correlation Matrix (Pearson)\")\n",
        "plt.show()\n",
        "\n",
        "# Calculate Spearman correlation coefficients (for non-linear relationships)\n",
        "spearman_correlation_matrix = df.corr(method=\"spearman\")\n",
        "\n",
        "# Print the Spearman correlation matrix\n",
        "print(spearman_correlation_matrix)\n",
        "\n",
        "# Create a heatmap to visualize the Spearman correlations\n",
        "sns.heatmap(spearman_correlation_matrix, annot=True, cmap=\"coolwarm\")\n",
        "plt.title(\"Correlation Matrix (Spearman)\")\n",
        "plt.show()"
      ]
    },
    {
      "cell_type": "code",
      "execution_count": null,
      "metadata": {},
      "outputs": [],
      "source": [
        "# Calculate correlation coefficient between product price and sales\n",
        "correlation_coefficient = np.corrcoef(df['actual_price'], df['rating'])[0, 1]\n",
        "\n",
        "# Print correlation coefficient\n",
        "print(correlation_coefficient)"
      ]
    },
    {
      "cell_type": "markdown",
      "metadata": {},
      "source": [
        "Grouping and Aggregation"
      ]
    },
    {
      "cell_type": "code",
      "execution_count": null,
      "metadata": {},
      "outputs": [],
      "source": [
        "# Calculate mean sales by product category\n",
        "grouped_df = df.groupby('category')['rating'].mean()\n",
        "\n",
        "# Print mean sales by product category\n",
        "print(grouped_df)"
      ]
    },
    {
      "cell_type": "code",
      "execution_count": null,
      "metadata": {},
      "outputs": [],
      "source": [
        "# Mean rating by category\n",
        "mean_sales_by_category = df.groupby('category')['rating'].mean()\n",
        "print(mean_sales_by_category)\n",
        "\n",
        "# Median rating by review_content\n",
        "median_sales_by_age = df.groupby('review_content')['rating'].median()\n",
        "print(median_sales_by_age)\n",
        "\n",
        "# Standard deviation of actual_price by product_name\n",
        "std_price_by_brand = df.groupby('product_name')['actual_price'].std()\n",
        "print(std_price_by_brand)"
      ]
    },
    {
      "cell_type": "markdown",
      "metadata": {},
      "source": [
        "Createing pivot tables"
      ]
    },
    {
      "cell_type": "code",
      "execution_count": null,
      "metadata": {},
      "outputs": [],
      "source": [
        "# Pivot table of rating by category and customer location\n",
        "pivot_table = df.pivot_table(values='rating', index='category', columns='product_link', aggfunc='mean')\n",
        "print(pivot_table)\n",
        "\n",
        "# Pivot table of average rating_count by customer age group and product category\n",
        "pivot_table = df.pivot_table(values='rating_count', index='review_content', columns='category', aggfunc='mean')\n",
        "print(pivot_table)"
      ]
    },
    {
      "cell_type": "code",
      "execution_count": null,
      "metadata": {},
      "outputs": [],
      "source": [
        "import scipy.stats as stats\n",
        "\n",
        "# Conduct t-test to compare rating between two categories\n",
        "t_statistic, p_value = stats.ttest_ind(df[df['category'] == 'electronics']['rating'], df[df['category'] == 'clothing']['rating'])\n",
        "\n",
        "# Print t-statistic and p-value\n",
        "print(t_statistic, p_value)"
      ]
    },
    {
      "cell_type": "code",
      "execution_count": null,
      "metadata": {},
      "outputs": [],
      "source": [
        "df.info()"
      ]
    },
    {
      "cell_type": "code",
      "execution_count": null,
      "metadata": {},
      "outputs": [],
      "source": [
        "# Chi-square test\n",
        "\n",
        "# Create a contigency table\n",
        "contigency_table = pd.crosstab(df['actual_price'], df['rating'])\n",
        "contigency_table"
      ]
    },
    {
      "cell_type": "code",
      "execution_count": null,
      "metadata": {},
      "outputs": [],
      "source": [
        "# perform chi-square test\n",
        "chi2, p, dof, expected = stats.chi2_contingency(contigency_table)\n",
        "\n",
        "# print the results\n",
        "print('Chi-square statistic:', chi2)\n",
        "print('p-value:', p)\n",
        "print('Degrees of freedom:', dof)\n",
        "print(f\"Expected:\\n {expected}\")"
      ]
    },
    {
      "cell_type": "code",
      "execution_count": null,
      "metadata": {},
      "outputs": [],
      "source": [
        "# inverse transform the data\n",
        "\n",
        "df['product_id'] = le_product_id.inverse_transform(df['product_id'])\n",
        "df['category'] = le_category.inverse_transform(df['category'])\n",
        "df['review_id'] = le_review_id.inverse_transform(df['review_id'])\n",
        "df['review_content'] = le_review_content.inverse_transform(df['review_content'])\n",
        "df['product_name'] = le_product_name.inverse_transform(df['product_name'])\n",
        "df['user_name'] = le_user_name.inverse_transform(df['user_name'])\n",
        "df['about_product'] = le_about_product.inverse_transform(df['about_product'])\n",
        "df['user_id'] = le_user_id.inverse_transform(df['user_id'])\n",
        "df['review_title'] = le_review_title.inverse_transform(df['review_title'])\n",
        "df['img_link'] = le_img_link.inverse_transform(df['img_link'])\n",
        "df['product_link'] = le_product_link.inverse_transform(df['product_link'])"
      ]
    }
  ],
  "metadata": {
    "colab": {
      "authorship_tag": "ABX9TyNeo6FA/ByE6DrmSOeAcwTy",
      "include_colab_link": true,
      "provenance": []
    },
    "kernelspec": {
      "display_name": "Python 3",
      "language": "python",
      "name": "python3"
    },
    "language_info": {
      "codemirror_mode": {
        "name": "ipython",
        "version": 3
      },
      "file_extension": ".py",
      "mimetype": "text/x-python",
      "name": "python",
      "nbconvert_exporter": "python",
      "pygments_lexer": "ipython3",
      "version": "3.10.18"
    }
  },
  "nbformat": 4,
  "nbformat_minor": 0
}
